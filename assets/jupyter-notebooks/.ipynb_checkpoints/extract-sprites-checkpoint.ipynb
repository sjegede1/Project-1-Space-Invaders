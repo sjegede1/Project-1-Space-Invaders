{
 "cells": [
  {
   "cell_type": "code",
   "execution_count": 1,
   "metadata": {},
   "outputs": [],
   "source": [
    "import os\n",
    "import pandas as pd\n",
    "from PIL import Image"
   ]
  },
  {
   "cell_type": "code",
   "execution_count": 6,
   "metadata": {},
   "outputs": [],
   "source": [
    "players = {\"name\":\"players\"}"
   ]
  },
  {
   "cell_type": "code",
   "execution_count": 12,
   "metadata": {},
   "outputs": [
    {
     "ename": "SyntaxError",
     "evalue": "invalid syntax (<ipython-input-12-9b47e01dd3c3>, line 8)",
     "output_type": "error",
     "traceback": [
      "\u001b[1;36m  File \u001b[1;32m\"<ipython-input-12-9b47e01dd3c3>\"\u001b[1;36m, line \u001b[1;32m8\u001b[0m\n\u001b[1;33m    players['map'] = pd.read_csv(f'../sprites/spritesheets/{players['name']}-sprite-map.csv')\u001b[0m\n\u001b[1;37m                                                                        ^\u001b[0m\n\u001b[1;31mSyntaxError\u001b[0m\u001b[1;31m:\u001b[0m invalid syntax\n"
     ]
    }
   ],
   "source": [
    "players['player-1'] = range(1,26)\n",
    "players['player-2'] = [26,27,35,36,28,37,29,38,30,31,32,33,34,39,40,41,42,47,43,48,44,49,50,45,46]\n",
    "players['blast-small'] = [60,61]\n",
    "players['blast-medium'] = [56,57]\n",
    "players['blast-large'] = [51]\n",
    "\n",
    "players['actions'] = ['player-1','player-2','blast-small','blast-medium','blast-large']\n",
    "players['map'] = pd.read_csv(f'../sprites/spritesheets/{players['name']}-sprite-map.csv')"
   ]
  },
  {
   "cell_type": "code",
   "execution_count": 11,
   "metadata": {},
   "outputs": [
    {
     "name": "stdout",
     "output_type": "stream",
     "text": [
      "players\n"
     ]
    }
   ],
   "source": [
    "print(players['name'])"
   ]
  },
  {
   "cell_type": "code",
   "execution_count": null,
   "metadata": {},
   "outputs": [],
   "source": [
    "goku['transform'] = [3,2,1]\n",
    "goku['idle'] = [13,11,6]\n",
    "goku['punch'] = [20,21,22,26]\n",
    "goku['key_blast'] = [48,51,55]\n",
    "goku['kamehameha'] = [70,71,72,73]\n",
    "goku['damage'] = [77,78,76,79,80,82,81]\n",
    "goku['actions'] = ['transform','idle','punch','key_blast','kamehameha','damage']\n",
    "goku['map'] = pd.read_csv(f'./sprites/goku/goku-map.csv')"
   ]
  },
  {
   "cell_type": "code",
   "execution_count": null,
   "metadata": {},
   "outputs": [],
   "source": [
    "frieza['transform'] = [1,2]\n",
    "frieza['idle'] = [29]\n",
    "frieza['walk'] = [23,25,26,22,88,92]\n",
    "frieza['tail_whip'] = [89,90,91]\n",
    "frieza['key_blast'] = [72,70,67,65,63]\n",
    "frieza['explosion'] = [68,66,62,56]\n",
    "frieza['disk_attack'] = [82,87,74,73,71,69]\n",
    "frieza['damage'] = [121,135,131,133,132,130,137,134,136]\n",
    "frieza['actions'] = ['transform','idle','walk','tail_whip','key_blast','explosion','disk_attack','damage']"
   ]
  },
  {
   "cell_type": "code",
   "execution_count": null,
   "metadata": {},
   "outputs": [],
   "source": [
    "characters = [goku,frieza]"
   ]
  },
  {
   "cell_type": "markdown",
   "metadata": {},
   "source": [
    "### Function to create action images"
   ]
  },
  {
   "cell_type": "code",
   "execution_count": null,
   "metadata": {},
   "outputs": [],
   "source": [
    "def extract_sprites(character):\n",
    "    name = character['name']\n",
    "    actions = character['actions']\n",
    "    character['map'] = pd.read_csv(f'./sprites/{name}/{name}-map.csv')\n",
    "    for action in actions:\n",
    "        action_num = 1\n",
    "        for sprite_idx in character[action]:\n",
    "            _,left,upper,width,height = character['map'].iloc[sprite_idx-1]\n",
    "            right=left+width\n",
    "            lower=upper+height\n",
    "            im = Image.open(f\"./sprites/{name}/{name}-spritesheet-transparent.png\").crop((left, upper, right, lower))\n",
    "            im.save(f\"./sprites/{name}/{name}-{action}-{action_num}.png\")\n",
    "            action_num+=1\n",
    "            \n",
    "            "
   ]
  },
  {
   "cell_type": "code",
   "execution_count": null,
   "metadata": {},
   "outputs": [],
   "source": [
    "for character in characters:\n",
    "    extract_sprites(character)"
   ]
  },
  {
   "cell_type": "markdown",
   "metadata": {},
   "source": [
    "## Practice and Scratchwork"
   ]
  },
  {
   "cell_type": "code",
   "execution_count": null,
   "metadata": {},
   "outputs": [],
   "source": [
    "_,left,upper,width,height = goku_map_df.iloc[0]\n",
    "right=left+width\n",
    "lower=upper+height\n",
    "im = Image.open(\"./sprites/goku/goku-spritesheet-transparent.png\").crop((left, upper, right, lower))\n",
    "display(im)\n",
    "im1\n",
    "display(im)"
   ]
  },
  {
   "cell_type": "code",
   "execution_count": null,
   "metadata": {},
   "outputs": [],
   "source": [
    "im.save(\"./sprites/goku/goku-idle-1.png\")"
   ]
  }
 ],
 "metadata": {
  "kernelspec": {
   "display_name": "Python 3",
   "language": "python",
   "name": "python3"
  },
  "language_info": {
   "codemirror_mode": {
    "name": "ipython",
    "version": 3
   },
   "file_extension": ".py",
   "mimetype": "text/x-python",
   "name": "python",
   "nbconvert_exporter": "python",
   "pygments_lexer": "ipython3",
   "version": "3.7.6"
  }
 },
 "nbformat": 4,
 "nbformat_minor": 4
}
